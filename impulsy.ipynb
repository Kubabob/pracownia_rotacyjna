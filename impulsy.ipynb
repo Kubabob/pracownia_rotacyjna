{
 "cells": [
  {
   "cell_type": "code",
   "execution_count": 26,
   "metadata": {},
   "outputs": [],
   "source": [
    "%matplotlib ipympl\n",
    "import numpy as np\n",
    "import matplotlib.pyplot as plt\n",
    "from ipywidgets import interact"
   ]
  },
  {
   "cell_type": "markdown",
   "metadata": {},
   "source": [
    "Rosnący impuls wykładniczy dla zmiennej $\\Omega$ i stałego t"
   ]
  },
  {
   "cell_type": "code",
   "execution_count": 27,
   "metadata": {},
   "outputs": [
    {
     "data": {
      "application/vnd.jupyter.widget-view+json": {
       "model_id": "62cc319584694aeca8b8beadea19274c",
       "version_major": 2,
       "version_minor": 0
      },
      "text/plain": [
       "interactive(children=(FloatSlider(value=-3.0, description='t', max=0.0, min=-5.0), Output()), _dom_classes=('w…"
      ]
     },
     "metadata": {},
     "output_type": "display_data"
    },
    {
     "data": {
      "text/plain": [
       "<function __main__.rosnacyImpulsWykladniczy(t)>"
      ]
     },
     "execution_count": 27,
     "metadata": {},
     "output_type": "execute_result"
    }
   ],
   "source": [
    "omega_space = np.arange(0.1,10,0.05)\n",
    "\n",
    "def rosnacyImpulsWykladniczy(t):\n",
    "    plt.figure(figsize=(6,4))\n",
    "    plt.grid()\n",
    "    plt.plot(omega_space, omega_space * np.e**(omega_space*t), label=r'$\\xi^2$, $t={}$'.format(round(t,1)))\n",
    "    plt.legend()\n",
    "    plt.show()\n",
    "\n",
    "interact(rosnacyImpulsWykladniczy, t=(-5,0,0.1))"
   ]
  },
  {
   "cell_type": "markdown",
   "metadata": {},
   "source": [
    "Malejący impuls wykładniczy dla zmiennej $\\Omega$ i stałego t"
   ]
  },
  {
   "cell_type": "code",
   "execution_count": 22,
   "metadata": {},
   "outputs": [
    {
     "data": {
      "application/vnd.jupyter.widget-view+json": {
       "model_id": "c1cc0f85b68847148e9f8d820437b802",
       "version_major": 2,
       "version_minor": 0
      },
      "text/plain": [
       "interactive(children=(FloatSlider(value=2.0, description='t', max=5.0), Output()), _dom_classes=('widget-inter…"
      ]
     },
     "metadata": {},
     "output_type": "display_data"
    },
    {
     "data": {
      "text/plain": [
       "<function __main__.malejacyImpulsWykladniczy(t)>"
      ]
     },
     "execution_count": 22,
     "metadata": {},
     "output_type": "execute_result"
    }
   ],
   "source": [
    "omega_space = np.arange(0.1,10,0.05)\n",
    "\n",
    "def malejacyImpulsWykladniczy(t):\n",
    "    plt.figure(figsize=(6,4))\n",
    "    plt.plot(omega_space, omega_space * np.e**(-omega_space*t), label=r'$\\xi^2$, $t={}$'.format(round(t,1)))\n",
    "    plt.grid()\n",
    "    plt.legend()\n",
    "    plt.show()\n",
    "\n",
    "interact(malejacyImpulsWykladniczy, t=(0,5,0.1))"
   ]
  },
  {
   "cell_type": "markdown",
   "metadata": {},
   "source": [
    "Impuls gaussowski dla zmiennej $\\Omega$ i stałego t"
   ]
  },
  {
   "cell_type": "code",
   "execution_count": 23,
   "metadata": {},
   "outputs": [
    {
     "data": {
      "application/vnd.jupyter.widget-view+json": {
       "model_id": "b670de2aab1b4fb39fc146ad43e01436",
       "version_major": 2,
       "version_minor": 0
      },
      "text/plain": [
       "interactive(children=(FloatSlider(value=0.0, description='t', max=5.0, min=-5.0, step=0.05), Output()), _dom_c…"
      ]
     },
     "metadata": {},
     "output_type": "display_data"
    },
    {
     "data": {
      "text/plain": [
       "<function __main__.impulsGaussowski(t)>"
      ]
     },
     "execution_count": 23,
     "metadata": {},
     "output_type": "execute_result"
    }
   ],
   "source": [
    "omega_space = np.arange(0.1,10,0.05)\n",
    "\n",
    "def impulsGaussowski(t):\n",
    "    plt.figure(figsize=(6,4))\n",
    "    plt.plot(omega_space, ((omega_space**2)/(2*np.pi))**(1/2) * np.e**((-(omega_space**2 * t**2))/2), label=r'$\\xi^2$, $t={}$'.format(round(t,2)))\n",
    "    plt.grid()\n",
    "    plt.legend()\n",
    "    plt.show()\n",
    "\n",
    "interact(impulsGaussowski, t=(-5,5,0.05))"
   ]
  },
  {
   "cell_type": "markdown",
   "metadata": {},
   "source": [
    "Wykres prawdopodobieństwa wystąpienia elektronu dla impulsu prostokątnego dla zmiennej $\\Omega$ i stałego t i $\\Gamma=1$"
   ]
  },
  {
   "cell_type": "code",
   "execution_count": 24,
   "metadata": {},
   "outputs": [
    {
     "data": {
      "application/vnd.jupyter.widget-view+json": {
       "model_id": "2572312284694c2e83cf56e171d79ec8",
       "version_major": 2,
       "version_minor": 0
      },
      "text/plain": [
       "interactive(children=(FloatSlider(value=2.0, description='t', max=5.0, step=0.05), Output()), _dom_classes=('w…"
      ]
     },
     "metadata": {},
     "output_type": "display_data"
    },
    {
     "data": {
      "text/plain": [
       "<function __main__.Pe(t)>"
      ]
     },
     "execution_count": 24,
     "metadata": {},
     "output_type": "execute_result"
    }
   ],
   "source": [
    "omega_space = np.arange(0.01, 20, 0.001)\n",
    "\n",
    "def P_e(t, gamma, omega):\n",
    "    if 0 <= t <= 2/omega:\n",
    "        return gamma*np.e**(-gamma*t)*(((2/gamma)*np.sqrt(gamma/2)*(np.e**(gamma/omega) - 1))**2)\n",
    "    elif t > 2/omega:\n",
    "        return gamma*np.e**(-gamma*t)*((-(2/gamma)*np.sqrt(omega/2)*np.e**(gamma/omega))**2)\n",
    "    else:\n",
    "        raise ValueError\n",
    "\n",
    "\n",
    "def Pe(t):\n",
    "    plt.figure(figsize=(6,4))\n",
    "    P_e_space = []\n",
    "    for omega in omega_space:\n",
    "        P_e_space.append(P_e(t, 1, omega))\n",
    "    plt.plot(omega_space, P_e_space, label=f'$t$ = {round(t,2)}')\n",
    "    plt.ylim(-2,20)\n",
    "    plt.grid()\n",
    "    plt.legend()\n",
    "    plt.show()\n",
    "\n",
    "interact(Pe, t=(0,5,0.05))"
   ]
  },
  {
   "cell_type": "markdown",
   "metadata": {},
   "source": [
    "Wykres prawdopodobieństwa wystąpienia elektronu przed momentem obserwacji dla zmiennej $\\Omega$ i stałej $\\Gamma = 1$ "
   ]
  },
  {
   "cell_type": "code",
   "execution_count": 25,
   "metadata": {},
   "outputs": [
    {
     "data": {
      "image/png": "[encoded data removed]",
      "text/plain": [
       "<Figure size 640x480 with 1 Axes>"
      ]
     },
     "metadata": {},
     "output_type": "display_data"
    }
   ],
   "source": [
    "omega_space = np.arange(0.01,2,0.001)\n",
    "\n",
    "plt.plot(omega_space, 2*omega_space/1)\n",
    "plt.grid()\n",
    "plt.show()"
   ]
  }
 ],
 "metadata": {
  "kernelspec": {
   "display_name": "Python 3",
   "language": "python",
   "name": "python3"
  },
  "language_info": {
   "codemirror_mode": {
    "name": "ipython",
    "version": 3
   },
   "file_extension": ".py",
   "mimetype": "text/x-python",
   "name": "python",
   "nbconvert_exporter": "python",
   "pygments_lexer": "ipython3",
   "version": "3.10.12"
  }
 },
 "nbformat": 4,
 "nbformat_minor": 2
}
