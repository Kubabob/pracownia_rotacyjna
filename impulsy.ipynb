{
 "cells": [
  {
   "cell_type": "code",
   "execution_count": 1,
   "metadata": {},
   "outputs": [],
   "source": [
    "%matplotlib ipympl\n",
    "import numpy as np\n",
    "import matplotlib.pyplot as plt\n",
    "from ipywidgets import interact\n",
    "from scipy.integrate import quad"
   ]
  },
  {
   "cell_type": "markdown",
   "metadata": {},
   "source": [
    "Rosnący impuls wykładniczy dla zmiennej $\\Omega$ i stałego t"
   ]
  },
  {
   "cell_type": "code",
   "execution_count": 3,
   "metadata": {},
   "outputs": [
    {
     "data": {
      "application/vnd.jupyter.widget-view+json": {
       "model_id": "2a68951eab3e4402b76e919f8076a581",
       "version_major": 2,
       "version_minor": 0
      },
      "text/plain": [
       "interactive(children=(FloatSlider(value=5.0, description='omega', max=10.0), Output()), _dom_classes=('widget-…"
      ]
     },
     "metadata": {},
     "output_type": "display_data"
    },
    {
     "data": {
      "text/plain": [
       "<function __main__.rosnacyImpulsWykladniczy(omega)>"
      ]
     },
     "execution_count": 3,
     "metadata": {},
     "output_type": "execute_result"
    }
   ],
   "source": [
    "t_space = np.arange(-10,0,0.05)\n",
    "\n",
    "def rosnacyImpulsWykladniczy(omega):\n",
    "    plt.figure(figsize=(6,4))\n",
    "    plt.grid()\n",
    "    plt.plot(t_space, omega * np.e**(omega*t_space), label=r'$\\xi^2$, $\\Omega={}$'.format(round(omega,2)))\n",
    "    plt.legend()\n",
    "    plt.show()\n",
    "\n",
    "interact(rosnacyImpulsWykladniczy, omega=(0,10,0.1))"
   ]
  },
  {
   "cell_type": "markdown",
   "metadata": {},
   "source": [
    "Malejący impuls wykładniczy dla zmiennej $\\Omega$ i stałego t"
   ]
  },
  {
   "cell_type": "code",
   "execution_count": 4,
   "metadata": {},
   "outputs": [
    {
     "data": {
      "application/vnd.jupyter.widget-view+json": {
       "model_id": "e7fbd80e3ccc4d02bda57a17d914145f",
       "version_major": 2,
       "version_minor": 0
      },
      "text/plain": [
       "interactive(children=(FloatSlider(value=5.0, description='omega', max=10.0), Output()), _dom_classes=('widget-…"
      ]
     },
     "metadata": {},
     "output_type": "display_data"
    },
    {
     "data": {
      "text/plain": [
       "<function __main__.malejacyImpulsWykladniczy(omega)>"
      ]
     },
     "execution_count": 4,
     "metadata": {},
     "output_type": "execute_result"
    }
   ],
   "source": [
    "t_space = np.arange(0.1,10,0.05)\n",
    "\n",
    "def malejacyImpulsWykladniczy(omega):\n",
    "    plt.figure(figsize=(6,4))\n",
    "    plt.plot(t_space, omega * np.e**(-omega*t_space), label=r'$\\xi^2$, $\\Omega={}$'.format(round(omega,1)))\n",
    "    plt.grid()\n",
    "    plt.legend()\n",
    "    plt.show()\n",
    "\n",
    "interact(malejacyImpulsWykladniczy, omega=(0,10,0.1))"
   ]
  },
  {
   "cell_type": "markdown",
   "metadata": {},
   "source": [
    "Impuls gaussowski dla zmiennej $\\Omega$ i stałego t"
   ]
  },
  {
   "cell_type": "code",
   "execution_count": 5,
   "metadata": {},
   "outputs": [
    {
     "data": {
      "application/vnd.jupyter.widget-view+json": {
       "model_id": "2470a98d762141cca6e885d529729cb3",
       "version_major": 2,
       "version_minor": 0
      },
      "text/plain": [
       "interactive(children=(FloatSlider(value=5.0, description='omega', max=10.0), Output()), _dom_classes=('widget-…"
      ]
     },
     "metadata": {},
     "output_type": "display_data"
    },
    {
     "data": {
      "text/plain": [
       "<function __main__.impulsGaussowski(omega)>"
      ]
     },
     "execution_count": 5,
     "metadata": {},
     "output_type": "execute_result"
    }
   ],
   "source": [
    "t_space = np.arange(-5,5,0.05)\n",
    "\n",
    "\n",
    "def impulsGaussowski(omega):\n",
    "    y = ((omega**2)/(2*np.pi))**(1/2) * np.e**((-(omega**2 * t_space**2))/2)\n",
    "    plt.figure(figsize=(6,4))\n",
    "    plt.plot(t_space, y, label=r'$\\xi^2$, $\\Omega={}$'.format(round(omega,2)))\n",
    "    tmax = t_space[np.argmax(y)]\n",
    "    ymax = y.max()\n",
    "    plt.grid()\n",
    "    plt.legend()\n",
    "    plt.annotate(f't={round(tmax,3)}, y={round(ymax,3)}', xy=(tmax,ymax))\n",
    "    plt.show()\n",
    "\n",
    "interact(impulsGaussowski, omega=(0,10,0.1))"
   ]
  },
  {
   "cell_type": "markdown",
   "metadata": {},
   "source": [
    "Wykres prawdopodobieństwa wystąpienia elektronu dla impulsu prostokątnego dla zmiennego t i stałej $\\Omega$ i $\\Gamma=1$"
   ]
  },
  {
   "cell_type": "code",
   "execution_count": 6,
   "metadata": {
    "scrolled": true
   },
   "outputs": [
    {
     "data": {
      "application/vnd.jupyter.widget-view+json": {
       "model_id": "0fadd60591ba4ac4bb742f8bab081715",
       "version_major": 2,
       "version_minor": 0
      },
      "text/plain": [
       "interactive(children=(FloatSlider(value=2.0, description='omega', max=5.0, step=0.05), Output()), _dom_classes…"
      ]
     },
     "metadata": {},
     "output_type": "display_data"
    },
    {
     "data": {
      "text/plain": [
       "<function __main__.Pe(omega)>"
      ]
     },
     "execution_count": 6,
     "metadata": {},
     "output_type": "execute_result"
    }
   ],
   "source": [
    "t_space = np.arange(0,10,0.1)\n",
    "\n",
    "def P_e(t, gamma, omega):\n",
    "    if 0 <= t <= 2/omega:\n",
    "        return 2*omega/gamma * np.e**(-gamma*t) *(np.e**(gamma*t/2) - 1)**2\n",
    "    elif t > 2/omega:\n",
    "        return 2*omega/gamma * np.e**(-gamma*t) *(np.e**(gamma/omega) - 1)**2\n",
    "    else:\n",
    "        raise ValueError\n",
    "\n",
    "\n",
    "def Pe(omega):\n",
    "    plt.figure(figsize=(6,4))\n",
    "    P_e_space = []\n",
    "    for t in t_space:\n",
    "        P_e_space.append(P_e(t, 1, omega))\n",
    "    P_e_space = np.array(P_e_space)\n",
    "    plt.plot(t_space, P_e_space, label=f'$\\Omega$ = {round(omega,2)}')\n",
    "    plt.ylim(-2,2)\n",
    "    tmax = t_space[np.argmax(P_e_space)]\n",
    "    ymax = P_e_space.max()\n",
    "    plt.grid()\n",
    "    plt.legend()\n",
    "    plt.annotate(f't={round(tmax,3)}, y={round(ymax,3)}', xy=(tmax,ymax))\n",
    "    plt.show()\n",
    "\n",
    "interact(Pe, omega=(0,5,0.05))"
   ]
  },
  {
   "cell_type": "markdown",
   "metadata": {},
   "source": [
    "Wykres prawdopodobieństwa wystąpienia elektronu przed momentem obserwacji dla zmiennej $\\Omega$ i stałej $\\Gamma = 1$ "
   ]
  },
  {
   "cell_type": "code",
   "execution_count": 7,
   "metadata": {},
   "outputs": [
    {
     "data": {
      "application/vnd.jupyter.widget-view+json": {
       "model_id": "1bc02aa32025492691b4dc02364ae203",
       "version_major": 2,
       "version_minor": 0
      },
      "image/png": "[encoded data removed]",
      "text/html": [
       "\n",
       "            <div style=\"display: inline-block;\">\n",
       "                <div class=\"jupyter-widgets widget-label\" style=\"text-align: center;\">\n",
       "                    Figure\n",
       "                </div>\n",
       "                <img src='data:image/png;base64,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' width=600.0/>\n",
       "            </div>\n",
       "        "
      ],
      "text/plain": [
       "Canvas(toolbar=Toolbar(toolitems=[('Home', 'Reset original view', 'home', 'home'), ('Back', 'Back to previous …"
      ]
     },
     "metadata": {},
     "output_type": "display_data"
    }
   ],
   "source": [
    "omega_space = np.arange(0.01,2,0.001)\n",
    "\n",
    "plt.figure(figsize=(6,4))\n",
    "plt.plot(omega_space, 2*omega_space/1)\n",
    "plt.grid()\n",
    "plt.show()"
   ]
  },
  {
   "cell_type": "markdown",
   "metadata": {},
   "source": [
    "Wykres prawdopodobieństwa wystąpienia elektronu dla impulsu rosnącego wykładniczego dla zmiennego t i stałej $\\Omega$ i $\\Gamma=1$"
   ]
  },
  {
   "cell_type": "code",
   "execution_count": 8,
   "metadata": {},
   "outputs": [
    {
     "data": {
      "application/vnd.jupyter.widget-view+json": {
       "model_id": "a26584fe07b542e49d4c8b9274741b9f",
       "version_major": 2,
       "version_minor": 0
      },
      "text/plain": [
       "interactive(children=(FloatSlider(value=2.0, description='omega', max=5.0, step=0.05), Output()), _dom_classes…"
      ]
     },
     "metadata": {},
     "output_type": "display_data"
    },
    {
     "data": {
      "text/plain": [
       "<function __main__.Pe(omega)>"
      ]
     },
     "execution_count": 8,
     "metadata": {},
     "output_type": "execute_result"
    }
   ],
   "source": [
    "t_space = np.arange(-10,10.1,0.1)\n",
    "\n",
    "def P_e(t, gamma, omega):\n",
    "    if t <= 0:\n",
    "        return gamma*np.e**(-gamma*t)*(np.sqrt(omega) * (2/(omega+gamma)) *np.e**((t*(omega+gamma))/2))**2\n",
    "    else:\n",
    "        return gamma*np.e**(-gamma*t)*((2*np.sqrt(omega))/(omega+gamma))**2\n",
    "\n",
    "def Pe(omega):\n",
    "    plt.figure(figsize=(6,4))\n",
    "    P_e_space = []\n",
    "    for t in t_space:\n",
    "        P_e_space.append(P_e(t, 1, omega))\n",
    "    P_e_space = np.array(P_e_space)\n",
    "    tmax=t_space[np.argmax(P_e_space)]\n",
    "    ymax=P_e_space.max()\n",
    "    plt.plot(t_space, P_e_space, label=f'$\\Omega$ = {round(omega,2)}')\n",
    "    plt.ylim(-2,2)\n",
    "    plt.grid()\n",
    "    plt.legend()\n",
    "    plt.annotate(f't={round(tmax,3)}, y={round(ymax,3)}', xy=(tmax,ymax))\n",
    "    plt.show()\n",
    "\n",
    "interact(Pe, omega=(0,5,0.05))"
   ]
  },
  {
   "cell_type": "markdown",
   "metadata": {},
   "source": [
    "Wykres prawdopodobieństwa wystąpienia elektronu dla impulsu malejącego wykładniczego dla zmiennego t i stałej $\\Omega$ i $\\Gamma=1$"
   ]
  },
  {
   "cell_type": "code",
   "execution_count": 9,
   "metadata": {},
   "outputs": [
    {
     "data": {
      "application/vnd.jupyter.widget-view+json": {
       "model_id": "5fa5e11fc7e048afbff5f9845e531e3e",
       "version_major": 2,
       "version_minor": 0
      },
      "text/plain": [
       "interactive(children=(FloatSlider(value=2.0, description='omega', max=5.0, step=0.05), Output()), _dom_classes…"
      ]
     },
     "metadata": {},
     "output_type": "display_data"
    },
    {
     "data": {
      "text/plain": [
       "<function __main__.Pe(omega)>"
      ]
     },
     "execution_count": 9,
     "metadata": {},
     "output_type": "execute_result"
    }
   ],
   "source": [
    "t_space = np.arange(0,10.1,0.1)\n",
    "\n",
    "def P_e(t, gamma, omega):\n",
    "    if t <= 0:\n",
    "        return 0\n",
    "    else:\n",
    "        if gamma == omega:\n",
    "            return gamma**2 * t**2 *np.e**(-gamma*t)\n",
    "        else:\n",
    "            return gamma*np.e**(-gamma*t)*(np.sqrt(omega)*2/(gamma-omega)*(np.e**((t*(gamma-omega))/2) -1))**2\n",
    "\n",
    "def Pe(omega):\n",
    "    plt.figure(figsize=(6,4))\n",
    "    P_e_space = []\n",
    "    for t in t_space:\n",
    "        P_e_space.append(P_e(t, 1, omega))\n",
    "    P_e_space = np.array(P_e_space)\n",
    "    tmax=t_space[np.argmax(P_e_space)]\n",
    "    ymax=P_e_space.max()\n",
    "    plt.plot(t_space, P_e_space, label=f'$\\Omega$ = {round(omega,2)}')\n",
    "    plt.ylim(-2,2)\n",
    "    plt.grid()\n",
    "    plt.legend()\n",
    "    plt.annotate(f't={round(tmax,3)}, y={round(ymax,3)}', xy=(tmax,ymax))\n",
    "    plt.show()\n",
    "\n",
    "\n",
    "interact(Pe, omega=(0,5,0.05))"
   ]
  },
  {
   "cell_type": "markdown",
   "metadata": {},
   "source": [
    "Dopisać wyświetlanie maksimum, zobaczyć co się dzieje, jak i czemu\n",
    "\n",
    "Liczenie calki z gaussa numerycznie"
   ]
  },
  {
   "cell_type": "code",
   "execution_count": 15,
   "metadata": {},
   "outputs": [
    {
     "name": "stdout",
     "output_type": "stream",
     "text": [
      "(0.682689492137086, 7.579375928402476e-15)\n"
     ]
    }
   ],
   "source": [
    "sigma = 1\n",
    "mi = 0\n",
    "\n",
    "def Gauss(x, sigma, mi):\n",
    "    return np.exp((-(x-mi)**2)/(2*(sigma**2)))/(sigma*np.sqrt(2*np.pi))\n",
    "\n",
    "integrate = quad(lambda x: Gauss(x, sigma, mi), -1,1)\n",
    "print(integrate)"
   ]
  }
 ],
 "metadata": {
  "kernelspec": {
   "display_name": "Python 3 (ipykernel)",
   "language": "python",
   "name": "python3"
  },
  "language_info": {
   "codemirror_mode": {
    "name": "ipython",
    "version": 3
   },
   "file_extension": ".py",
   "mimetype": "text/x-python",
   "name": "python",
   "nbconvert_exporter": "python",
   "pygments_lexer": "ipython3",
   "version": "3.10.12"
  }
 },
 "nbformat": 4,
 "nbformat_minor": 4
}
